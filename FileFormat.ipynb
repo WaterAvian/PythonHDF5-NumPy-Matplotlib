{
 "cells": [
  {
   "attachments": {},
   "cell_type": "markdown",
   "metadata": {},
   "source": [
    "\n",
    "**Imports libraries**\n",
    "\n",
    "**Opens HDF5 file into file handler.**\n",
    "\n",
    "Creates megaList and trialList"
   ]
  },
  {
   "cell_type": "code",
   "execution_count": null,
   "metadata": {},
   "outputs": [],
   "source": [
    "import numpy as np\n",
    "import h5py\n",
    "import matplotlib.pyplot as plt\n",
    "import math as math\n",
    "import scipy.interpolate as interp\n",
    "\n",
    "file = h5py.File('redacted', 'r')\n",
    "\n",
    "#ls - list of files base group names\n",
    "ls = list(file.keys()) \n",
    "print('Keys: \\n',ls,'\\n')\n",
    "\n",
    "trialList = [] #For r1 data Trial Number\n",
    "megaList = [] #For r2 and r1 data"
   ]
  },
  {
   "attachments": {},
   "cell_type": "markdown",
   "metadata": {},
   "source": [
    "\n",
    "**Adds all individual arrays to an MEGA 2D Array** where each index of MEGA is an numpy array (of either r1 or r2 data).\n",
    "\n",
    "Because of order of operation, every 3 indexes of Mega array are associated data, such that it's 2 r2 & 1 r1 arrays. Every 3rd index starting at 2 is r1 data (E.g indexes 2, 5, 8, 11, etc) - so:\n",
    "\n",
    "megaList[**0**] = r2, \n",
    "\n",
    "megaList[**1**] = r2, \n",
    "\n",
    "megaList[**2**] = r1, repeat etc"
   ]
  },
  {
   "cell_type": "code",
   "execution_count": null,
   "metadata": {},
   "outputs": [],
   "source": [
    "def visitor_func(name, node):\n",
    "    if isinstance(node, h5py.Dataset):\n",
    "         dataArray = np.array(node) #  Converts r2/r1 data into numpy array\n",
    "\n",
    "         #If r2 data: append to megaList. || If r1 data, reformat then append to megaList\n",
    "         #r1 data is column-wise and needs to be reformated to row-wise\n",
    "         match dataArray.shape[0]:\n",
    "             case 1: reformatedDataArray = dataArray[0]\n",
    "             case _: reformatedDataArray = np.reshape(dataArray, dataArray.size); trialList.append(node.name)\n",
    "         \n",
    "         megaList.append(reformatedDataArray); #  all arrays are appended to a megaList - per every 3 indexes are associated data starting from 0.\n",
    "    #else: node is a group: does nothing.\n",
    "\n",
    "for s in file.keys():\n",
    "    for x in file.get(s):\n",
    "        folder = file.get('{}/{}'.format(s,x))\n",
    "        folder.visititems(visitor_func)\n"
   ]
  },
  {
   "attachments": {},
   "cell_type": "markdown",
   "metadata": {},
   "source": [
    "Attempts to Normalize the data before plotting. Uses MinMax Normalization.\n",
    "\n",
    "r1 values range from -x000 to +x000 (±x000)\n",
    "\n",
    "r2 values range from x to 0.xx\n",
    "\n",
    "Current issue:\n",
    "\n",
    "1. minmax normalization isn't fixing r1 negative values\n",
    "\n",
    "2. r2 data is x-axis short, about half the amount of r1 data points. Need a solution to extend r2."
   ]
  },
  {
   "cell_type": "code",
   "execution_count": null,
   "metadata": {},
   "outputs": [],
   "source": [
    "def ecgAdjust(r2, r1):\n",
    "    arr2_interp = interp.interp1d(np.arange(r2.size),r2,)\n",
    "    return arr2_interp(np.linspace(0,r2.size-1,r1.size))\n",
    "    \n",
    "\n",
    "for x in range(2, len(megaList), 3): #X is always next r1 value\n",
    "    plt.figure()\n",
    "\n",
    "    #MinMax Normalization:\n",
    "    r1 = (megaList[x] - np.min(megaList[x])) / (np.max(megaList[x]) - np.min(megaList[x])) \n",
    "    r2 = (megaList[x-1] - np.min(megaList[x-1])) / (np.max(megaList[x-1]) - np.min(megaList[x-1]))\n",
    "\n",
    "    r2 = ecgAdjust(r2, r1)\n",
    "    \n",
    "    plt.plot(r2, label='redacted1')\n",
    "    plt.plot(r1, label='redacted2')\n",
    "    plt.legend()\n",
    "    plt.title(\"Trial {}\".format(trialList[int((x - 2) / 3)]))\n",
    "    plt.xlabel(\"Time\")\n",
    "    plt.ylabel(\"Amplitude\")\n",
    "\n",
    "plt.show "
   ]
  },
  {
   "cell_type": "code",
   "execution_count": null,
   "metadata": {},
   "outputs": [],
   "source": [
    "plt.close()\n",
    "file.close() #probably important"
   ]
  }
 ],
 "metadata": {
  "kernelspec": {
   "display_name": "Python 3",
   "language": "python",
   "name": "python3"
  },
  "language_info": {
   "codemirror_mode": {
    "name": "ipython",
    "version": 3
   },
   "file_extension": ".py",
   "mimetype": "text/x-python",
   "name": "python",
   "nbconvert_exporter": "python",
   "pygments_lexer": "ipython3",
   "version": "3.10.5"
  },
  "orig_nbformat": 4
 },
 "nbformat": 4,
 "nbformat_minor": 2
}
